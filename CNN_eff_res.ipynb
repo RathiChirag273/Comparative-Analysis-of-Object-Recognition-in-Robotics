{
 "cells": [
  {
   "cell_type": "markdown",
   "id": "577482b0",
   "metadata": {},
   "source": [
    "# CNN-Based Object Recognition on the RGB-D Object Dataset\n",
    "\n",
    "This notebook implements a Convolutional Neural Network (CNN) for object classification using the RGB images from the RGB-D Object Dataset. The goal is to recognize various object categories (e.g., apple, ball, etc.) using RGB, depth and mask data.\n",
    "\n",
    "We will perform the following steps:\n",
    "1. Load and preprocess the dataset\n",
    "2. Encode labels and split into training and validation sets\n",
    "3. Define a CNN architecture\n",
    "4. Train the model and monitor performance\n",
    "5. Evaluate the model with accuracy metrics and confusion matrix\n",
    "6. Experiment with different hyperparameters"
   ]
  },
  {
   "cell_type": "markdown",
   "id": "dd8c1b84",
   "metadata": {},
   "source": [
    "## Import Required Libraries"
   ]
  },
  {
   "cell_type": "code",
   "execution_count": 1,
   "id": "3479be02",
   "metadata": {},
   "outputs": [],
   "source": [
    "# Standard libraries\n",
    "import os\n",
    "import numpy as np\n",
    "from pathlib import Path\n",
    "from PIL import Image\n",
    "import logging\n",
    "import random\n",
    "from collections import Counter, defaultdict\n",
    "\n",
    "# PyTorch and TorchVision\n",
    "import torch\n",
    "import torch.nn as nn\n",
    "import torch.nn.functional as F\n",
    "import torch.optim as optim\n",
    "from torch.utils.data import Dataset, DataLoader, random_split\n",
    "from torchvision import transforms, models\n",
    "\n",
    "# Plotting and utility\n",
    "import matplotlib.pyplot as plt\n"
   ]
  },
  {
   "cell_type": "code",
   "execution_count": 2,
   "id": "05bbe4ed",
   "metadata": {},
   "outputs": [
    {
     "name": "stdout",
     "output_type": "stream",
     "text": [
      "2.7.0+cu126\n"
     ]
    }
   ],
   "source": [
    "print(torch.__version__)"
   ]
  },
  {
   "cell_type": "markdown",
   "id": "cfa6952f",
   "metadata": {},
   "source": [
    "## Load Image Paths and Extract Labels"
   ]
  },
  {
   "cell_type": "code",
   "execution_count": 3,
   "id": "f86a6ad7",
   "metadata": {},
   "outputs": [
    {
     "name": "stdout",
     "output_type": "stream",
     "text": [
      "Found 15 categories: ['ball', 'bell_pepper', 'bowl', 'coffee_mug', 'dry_battery', 'food_bag', 'food_can', 'food_jar', 'garlic', 'glue_stick', 'instant_noodles', 'plate', 'stapler', 'tomato', 'water_bottle']\n",
      "Total RGB images found: 73416\n",
      "Total instances found: 105\n"
     ]
    }
   ],
   "source": [
    "# Set up logging for skipped samples\n",
    "logging.basicConfig(filename='skipped_samples.log', level=logging.INFO, \n",
    "                    format='%(asctime)s - %(message)s')\n",
    "\n",
    "# Define dataset root\n",
    "DATASET_ROOT = Path(\"data/rgbd-dataset\")\n",
    "\n",
    "# List all object categories\n",
    "categories = sorted([d.name for d in DATASET_ROOT.iterdir() if d.is_dir()])\n",
    "print(f\"Found {len(categories)} categories: {categories}\")\n",
    "if len(categories) != 15:\n",
    "    raise ValueError(f\"Expected 15 categories, but found {len(categories)}\")\n",
    "\n",
    "# Collect image paths, labels, and instance mapping\n",
    "image_paths = []\n",
    "labels = []\n",
    "instance_to_images = {}  # Maps instance (category/instance_name) to list of image paths\n",
    "\n",
    "for label, category in enumerate(categories):\n",
    "    category_path = DATASET_ROOT / category\n",
    "    for instance_dir in category_path.iterdir():\n",
    "        if not instance_dir.is_dir():\n",
    "            continue\n",
    "        instance_name = f\"{category}/{instance_dir.name}\"\n",
    "        instance_to_images[instance_name] = []\n",
    "        for file in instance_dir.glob(\"*_crop.png\"):\n",
    "            if not file.name.endswith((\"_depthcrop.png\", \"_maskcrop.png\")):\n",
    "                image_paths.append(file)\n",
    "                labels.append(label)\n",
    "                instance_to_images[instance_name].append(file)\n",
    "\n",
    "print(f\"Total RGB images found: {len(image_paths)}\")\n",
    "print(f\"Total instances found: {len(instance_to_images)}\")\n",
    "if not image_paths:\n",
    "    raise ValueError(\"No RGB images found in the dataset. Check DATASET_ROOT and file structure.\")\n"
   ]
  },
  {
   "cell_type": "markdown",
   "id": "df1e4835",
   "metadata": {},
   "source": [
    "## Create a Custom Dataset Class"
   ]
  },
  {
   "cell_type": "code",
   "execution_count": 4,
   "id": "f1e08c44",
   "metadata": {},
   "outputs": [],
   "source": [
    "class RGBDObjectDataset(Dataset):\n",
    "    \"\"\"\n",
    "    PyTorch Dataset for the RGB-D Object Dataset (crops with segmentation masks).\n",
    "\n",
    "    Each sample include:\n",
    "      - RGB image (cropped color image)\n",
    "      - Depth image (cropped depth map)\n",
    "      - Segmentation mask (object mask)\n",
    "\n",
    "    Args:\n",
    "        root_dir (str): Root directory of the dataset. Assumes subfolders per class, e.g.:\n",
    "                        root_dir/\n",
    "                          class1/\n",
    "                            instanceA/\n",
    "                              class1_instA_1_rgbcrop.png\n",
    "                              class1_instA_1_depthcrop.png\n",
    "                              class1_instA_1_maskcrop.png\n",
    "                              ...\n",
    "                            instanceB/\n",
    "                              ...\n",
    "                          class2/\n",
    "                            ...\n",
    "        mode (str): Specifies which modalities to output. \n",
    "                    Can be 'rgb', 'depth', 'mask', or combinations with '+', e.g. 'rgb+depth'.\n",
    "        transform_rgb (callable, optional): Transform to apply to RGB images.\n",
    "        transform_depth (callable, optional): Transform to apply to depth images.\n",
    "        transform_mask (callable, optional): Transform to apply to mask images.\n",
    "    \"\"\"\n",
    "    def __init__(self, root_dir, mode='rgb', transform=None):\n",
    "        \"\"\"\n",
    "        root_dir: root directory of the dataset, i.e. 'data/rgbd-dataset'\n",
    "        mode: one of ['rgb', 'rgb+depth', 'rgb+depth+mask']\n",
    "        \"\"\"\n",
    "        self.root_dir = root_dir\n",
    "        self.mode = mode\n",
    "        self.transform = transform\n",
    "\n",
    "        # Modes supported\n",
    "        valid_modes = ['rgb', 'rgb+depth', 'rgb+depth+mask', 'rgb+mask']\n",
    "        if mode not in valid_modes:\n",
    "            raise ValueError(f\"Invalid mode: {mode}, must be one of {valid_modes}\")\n",
    "        self.modalities = mode.split('+')\n",
    "\n",
    "        self.samples = []\n",
    "        self.class_to_idx = {}\n",
    "        self._load_dataset()\n",
    "        print(f\"Loaded {len(self.samples)} samples in RGBDObjectDataset\")\n",
    "\n",
    "    def _load_dataset(self):\n",
    "        class_names = sorted(os.listdir(self.root_dir))\n",
    "        for idx, class_name in enumerate(class_names):\n",
    "            class_path = os.path.join(self.root_dir, class_name)\n",
    "            if not os.path.isdir(class_path):\n",
    "                continue\n",
    "            self.class_to_idx[class_name] = idx\n",
    "            for instance_name in os.listdir(class_path):\n",
    "                inst_dir = os.path.join(class_path, instance_name)\n",
    "                if not os.path.isdir(inst_dir):\n",
    "                    continue\n",
    "\n",
    "                # Gather all _crop.png filenames (excluding depthcrop and maskcrop)\n",
    "                prefixes = set()\n",
    "                for fname in os.listdir(inst_dir):\n",
    "                    if fname.endswith('_crop.png') and not fname.endswith(('_depthcrop.png', '_maskcrop.png')):\n",
    "                        prefixes.add(fname[:-len('_crop.png')])\n",
    "\n",
    "                for prefix in prefixes:\n",
    "                    rgb_path = os.path.join(inst_dir, prefix + '_crop.png') if 'rgb' in self.modalities else None\n",
    "                    depth_path = os.path.join(inst_dir, prefix + '_depthcrop.png') if 'depth' in self.modalities else None\n",
    "                    mask_path = os.path.join(inst_dir, prefix + '_maskcrop.png') if 'mask' in self.modalities else None\n",
    "\n",
    "                    # Verify all required files exist\n",
    "                    if (('rgb' in self.modalities and (not rgb_path or not os.path.isfile(rgb_path))) or\n",
    "                        ('depth' in self.modalities and (not depth_path or not os.path.isfile(depth_path))) or\n",
    "                        ('mask' in self.modalities and (not mask_path or not os.path.isfile(mask_path)))):\n",
    "                        logging.info(f\"Skipping sample {prefix} in {inst_dir}: Missing required files\")\n",
    "                        continue\n",
    "\n",
    "                    self.samples.append({\n",
    "                        'rgb': rgb_path,\n",
    "                        'depth': depth_path,\n",
    "                        'mask': mask_path,\n",
    "                        'label': self.class_to_idx[class_name]\n",
    "                    })\n",
    "\n",
    "        if not self.samples:\n",
    "            raise RuntimeError(f\"No valid samples found for mode '{self.mode}' in {self.root_dir}\")\n",
    "\n",
    "    def __len__(self):\n",
    "        return len(self.samples)\n",
    "\n",
    "    def __getitem__(self, idx):\n",
    "        sample = self.samples[idx]\n",
    "        try:\n",
    "            rgb_img = Image.open(sample['rgb']).convert('RGB') if 'rgb' in self.modalities else None\n",
    "            depth_img = Image.open(sample['depth']).convert('L') if 'depth' in self.modalities else None\n",
    "            mask_img = Image.open(sample['mask']).convert('L') if 'mask' in self.modalities else None\n",
    "        except Exception as e:\n",
    "            print(f\"Error loading sample {idx} (rgb: {sample['rgb']}): {e}\")\n",
    "            raise\n",
    "        if self.transform:\n",
    "            if rgb_img is not None:\n",
    "                rgb_img = self.transform(rgb_img)\n",
    "            if depth_img is not None:\n",
    "                depth_img = self.transform(depth_img)\n",
    "            if mask_img is not None:\n",
    "                mask_img = self.transform(mask_img)\n",
    "        inputs = []\n",
    "        if rgb_img is not None:\n",
    "            inputs.append(rgb_img)\n",
    "        if depth_img is not None:\n",
    "            inputs.append(depth_img)\n",
    "        if mask_img is not None:\n",
    "            inputs.append(mask_img)\n",
    "        x = torch.cat(inputs, dim=0) if len(inputs) > 1 else inputs[0]\n",
    "        return x, sample['label']"
   ]
  },
  {
   "cell_type": "markdown",
   "id": "2187964f",
   "metadata": {},
   "source": [
    "## Loading the Dataset in DataLoader"
   ]
  },
  {
   "cell_type": "code",
   "execution_count": 7,
   "id": "7a25fa0e",
   "metadata": {},
   "outputs": [
    {
     "name": "stdout",
     "output_type": "stream",
     "text": [
      "Loaded 73292 samples in RGBDObjectDataset\n",
      "Loaded 73292 samples in RGBDObjectDataset\n",
      "Number of instances in dataset: 105\n",
      "Training indices: 52205\n",
      "Validation indices: 21087\n",
      "Training subset size: 52205\n",
      "Validation subset size: 21087\n",
      "Training subset size: 52205 images\n",
      "Validation subset size: 21087 images\n",
      "torch.Size([128, 5, 224, 224]) torch.Size([128])\n"
     ]
    }
   ],
   "source": [
    "# Define transforms for RGB and depth images\n",
    "train_transform = transforms.Compose([\n",
    "    transforms.RandomHorizontalFlip(),\n",
    "    transforms.RandomRotation(10),\n",
    "    transforms.Resize((224, 224)),\n",
    "    transforms.ToTensor(),\n",
    "])\n",
    "val_transform = transforms.Compose([\n",
    "    transforms.Resize((224, 224)),\n",
    "    transforms.ToTensor(),\n",
    "])\n",
    "\n",
    "# Initialize dataset for RGB+Depth+Mask\n",
    "train_dataset = RGBDObjectDataset(root_dir='data/rgbd-dataset', mode='rgb+depth+mask', transform=train_transform)\n",
    "val_dataset = RGBDObjectDataset(root_dir='data/rgbd-dataset', mode='rgb+depth+mask', transform=val_transform)\n",
    "\n",
    "# Check if either dataset is empty\n",
    "if len(train_dataset) == 0 or len(val_dataset) == 0:\n",
    "    raise ValueError(\"Dataset is empty. Check file paths and dataset loading logic.\")\n",
    "\n",
    "# Group samples by instance\n",
    "instance_to_indices = {}\n",
    "for idx, sample in enumerate(train_dataset.samples):\n",
    "    rgb_path = Path(sample['rgb'])\n",
    "    # Extract category and instance using Path parts\n",
    "    instance = f\"{rgb_path.parts[-3]}/{rgb_path.parts[-2]}\"\n",
    "    if instance not in instance_to_indices:\n",
    "        instance_to_indices[instance] = []\n",
    "    instance_to_indices[instance].append(idx)\n",
    "\n",
    "print(f\"Number of instances in dataset: {len(instance_to_indices)}\")\n",
    "if not instance_to_indices:\n",
    "    raise ValueError(\"No instances found in dataset. Check instance grouping logic.\")\n",
    "\n",
    "# Stratified Split instances by class\n",
    "class_to_instances = defaultdict(list)\n",
    "for instance in instance_to_images.keys():\n",
    "    class_name = instance.split('/')[0]\n",
    "    class_to_instances[class_name].append(instance)\n",
    "\n",
    "train_instances = []\n",
    "val_instances = []\n",
    "train_ratio = 0.8\n",
    "for class_name, instances in class_to_instances.items():\n",
    "    random.shuffle(instances)\n",
    "    train_count = max(1, int(train_ratio * len(instances)))\n",
    "    train_instances.extend(instances[:train_count])\n",
    "    val_instances.extend(instances[train_count:])\n",
    "\n",
    "# Collect indices for train and val\n",
    "train_indices = []\n",
    "val_indices = []\n",
    "for instance in train_instances:\n",
    "    train_indices.extend(instance_to_indices[instance])\n",
    "for instance in val_instances:\n",
    "    val_indices.extend(instance_to_indices[instance])\n",
    "\n",
    "print(f\"Training indices: {len(train_indices)}\")\n",
    "print(f\"Validation indices: {len(val_indices)}\")\n",
    "if not train_indices:\n",
    "    raise ValueError(\"No training indices assigned. Check instance splitting logic.\")\n",
    "if not val_indices:\n",
    "    raise ValueError(\"No validation indices assigned. Check instance splitting logic.\")\n",
    "\n",
    "# Create Subset datasets\n",
    "train_subset = torch.utils.data.Subset(train_dataset, train_indices)\n",
    "val_subset = torch.utils.data.Subset(val_dataset, val_indices)\n",
    "\n",
    "# Additional diagnostic\n",
    "print(f\"Training subset size: {len(train_subset)}\")\n",
    "print(f\"Validation subset size: {len(val_subset)}\")\n",
    "if len(train_subset) + len(val_subset) != len(train_dataset):\n",
    "    print(f\"Warning: Subset sizes ({len(train_subset)} + {len(val_subset)}) do not match total dataset size ({len(train_dataset)})\")\n",
    "\n",
    "# Create DataLoaders\n",
    "train_loader = DataLoader(train_subset, batch_size=128, shuffle=True, pin_memory=True)\n",
    "val_loader = DataLoader(val_subset, batch_size=128, shuffle=True, pin_memory=True)\n",
    "\n",
    "print(f\"Training subset size: {len(train_subset)} images\")\n",
    "print(f\"Validation subset size: {len(val_subset)} images\")\n",
    "\n",
    "for batch, labels in train_loader:\n",
    "    print(batch.shape, labels.shape)\n",
    "    break"
   ]
  },
  {
   "cell_type": "markdown",
   "id": "47ad0ba6",
   "metadata": {},
   "source": [
    "## Diagnostic Checks"
   ]
  },
  {
   "cell_type": "code",
   "execution_count": 9,
   "id": "9baf6a64",
   "metadata": {},
   "outputs": [
    {
     "name": "stdout",
     "output_type": "stream",
     "text": [
      "\n",
      "=== Running Diagnostic Checks ===\n",
      "Number of overlapping image paths between train and val: 0\n",
      "Number of overlapping instances between train and val: 0\n",
      "Number of classes in dataset: 15\n",
      "\n",
      "Label distribution in training set:\n",
      "Class 0 (ball): 3958 samples\n",
      "Class 1 (bell_pepper): 2532 samples\n",
      "Class 2 (bowl): 2296 samples\n",
      "Class 3 (coffee_mug): 3777 samples\n",
      "Class 4 (dry_battery): 2163 samples\n",
      "Class 5 (food_bag): 4728 samples\n",
      "Class 6 (food_can): 4014 samples\n",
      "Class 7 (food_jar): 3141 samples\n",
      "Class 8 (garlic): 3935 samples\n",
      "Class 9 (glue_stick): 3103 samples\n",
      "Class 10 (instant_noodles): 4745 samples\n",
      "Class 11 (plate): 3157 samples\n",
      "Class 12 (stapler): 3719 samples\n",
      "Class 13 (tomato): 3935 samples\n",
      "Class 14 (water_bottle): 3002 samples\n",
      "\n",
      "Label distribution in validation set:\n",
      "Class 0 (ball): 1603 samples\n",
      "Class 1 (bell_pepper): 1252 samples\n",
      "Class 2 (bowl): 1588 samples\n",
      "Class 3 (coffee_mug): 1089 samples\n",
      "Class 4 (dry_battery): 1012 samples\n",
      "Class 5 (food_bag): 1574 samples\n",
      "Class 6 (food_can): 1555 samples\n",
      "Class 7 (food_jar): 1643 samples\n",
      "Class 8 (garlic): 1599 samples\n",
      "Class 9 (glue_stick): 1574 samples\n",
      "Class 10 (instant_noodles): 1573 samples\n",
      "Class 11 (plate): 1232 samples\n",
      "Class 12 (stapler): 1361 samples\n",
      "Class 13 (tomato): 1302 samples\n",
      "Class 14 (water_bottle): 1130 samples\n",
      "\n",
      "Sample input shape: torch.Size([5, 224, 224])\n",
      "\n",
      "Train batch shape: torch.Size([128, 5, 224, 224]), Labels shape: torch.Size([128])\n",
      "Label range: min=0, max=14\n",
      "\n",
      "Sample prediction probabilities shape: torch.Size([128, 15])\n",
      "Probability sum (first sample): 1.0000\n",
      "\n",
      "=== All Diagnostic Checks Passed ===\n"
     ]
    }
   ],
   "source": [
    "def run_diagnostic_checks(train_dataset, val_dataset, train_loader, val_loader, categories, instance_to_images):\n",
    "    print(\"\\n=== Running Diagnostic Checks ===\")\n",
    "\n",
    "    # 1. Check for Data Leakage: Image Path Overlap\n",
    "    train_indices = train_dataset.indices\n",
    "    val_indices = val_dataset.indices\n",
    "    train_paths = [train_dataset.dataset.samples[i]['rgb'] for i in train_indices]\n",
    "    val_paths = [val_dataset.dataset.samples[i]['rgb'] for i in val_indices]\n",
    "    common_paths = set(train_paths) & set(val_paths)\n",
    "    print(f\"Number of overlapping image paths between train and val: {len(common_paths)}\")\n",
    "    if common_paths:\n",
    "        print(f\"Example overlapping paths: {list(common_paths)[:5]}\")\n",
    "        raise ValueError(\"Data leakage detected: Overlapping images in train and val sets\")\n",
    "\n",
    "    # 2. Check for Data Leakage: Instance-Level Separation\n",
    "    train_instances = set()\n",
    "    val_instances = set()\n",
    "    for i in train_indices:\n",
    "        rgb_path = Path(train_dataset.dataset.samples[i]['rgb'])\n",
    "        instance = f\"{rgb_path.parts[-3]}/{rgb_path.parts[-2]}\"\n",
    "        train_instances.add(instance)\n",
    "    for i in val_indices:\n",
    "        rgb_path = Path(val_dataset.dataset.samples[i]['rgb'])\n",
    "        instance = f\"{rgb_path.parts[-3]}/{rgb_path.parts[-2]}\"\n",
    "        val_instances.add(instance)\n",
    "    common_instances = train_instances & val_instances\n",
    "    print(f\"Number of overlapping instances between train and val: {len(common_instances)}\")\n",
    "    if common_instances:\n",
    "        print(f\"Example overlapping instances: {list(common_instances)[:5]}\")\n",
    "        raise ValueError(\"Data leakage detected: Overlapping instances in train and val sets\")\n",
    "\n",
    "    # 3. Validate Dataset Usage: Class Count\n",
    "    print(f\"Number of classes in dataset: {len(categories)}\")\n",
    "    if len(categories) != 15:\n",
    "        raise ValueError(f\"Expected 15 classes, found {len(categories)}\")\n",
    "\n",
    "    # 4. Validate Dataset Usage: Label Distribution\n",
    "    train_labels = [train_dataset.dataset.samples[i]['label'] for i in train_indices]\n",
    "    val_labels = [val_dataset.dataset.samples[i]['label'] for i in val_indices]\n",
    "    train_label_counts = Counter(train_labels)\n",
    "    val_label_counts = Counter(val_labels)\n",
    "    print(\"\\nLabel distribution in training set:\")\n",
    "    for label in range(15):\n",
    "        count = train_label_counts.get(label, 0)\n",
    "        print(f\"Class {label} ({categories[label]}): {count} samples\")\n",
    "    print(\"\\nLabel distribution in validation set:\")\n",
    "    for label in range(15):\n",
    "        count = val_label_counts.get(label, 0)\n",
    "        print(f\"Class {label} ({categories[label]}): {count} samples\")\n",
    "\n",
    "    # 5. Validate Dataset Usage: Input Channels\n",
    "    sample_input, _ = train_dataset[0]\n",
    "    print(f\"\\nSample input shape: {sample_input.shape}\")\n",
    "    if sample_input.shape[0] != 5:\n",
    "        raise ValueError(f\"Expected 5 channels, found {sample_input.shape[0]}\")\n",
    "\n",
    "    # 6. Implementation Error Check: Batch Shape Verification\n",
    "    for batch, labels in train_loader:\n",
    "        print(f\"\\nTrain batch shape: {batch.shape}, Labels shape: {labels.shape}\")\n",
    "        print(f\"Label range: min={labels.min().item()}, max={labels.max().item()}\")\n",
    "        if batch.shape[1] != 5 or batch.shape[2] != 224 or batch.shape[3] != 224:\n",
    "            raise ValueError(f\"Unexpected batch shape: {batch.shape}\")\n",
    "        if labels.min().item() < 0 or labels.max().item() > 14:\n",
    "            raise ValueError(f\"Labels out of range: {labels.min().item()} to {labels.max().item()}\")\n",
    "        break\n",
    "\n",
    "    # 7. Implementation Error Check: Prediction Sanity Check\n",
    "    device = torch.device(\"cuda\" if torch.cuda.is_available() else \"cpu\")\n",
    "    model = models.resnet50(weights=models.ResNet50_Weights.IMAGENET1K_V2)\n",
    "    old_conv = model.conv1\n",
    "    model.conv1 = nn.Conv2d(5, old_conv.out_channels, kernel_size=old_conv.kernel_size,\n",
    "                            stride=old_conv.stride, padding=old_conv.padding, bias=False)\n",
    "    with torch.no_grad():\n",
    "        model.conv1.weight[:, :3, :, :] = old_conv.weight.clone()\n",
    "        mean_weight = old_conv.weight.mean(dim=1, keepdim=True)\n",
    "        model.conv1.weight[:, 3:5, :, :] = mean_weight.repeat(1, 2, 1, 1)\n",
    "    in_features = model.fc.in_features\n",
    "    model.fc = nn.Sequential(\n",
    "        nn.Dropout(p=0.5),\n",
    "        nn.Linear(in_features, 15)  # Updated to 15 classes\n",
    "    )\n",
    "    model = model.to(device)\n",
    "    model.eval()\n",
    "    with torch.no_grad():\n",
    "        for batch, _ in train_loader:\n",
    "            batch = batch.to(device)\n",
    "            outputs = model(batch)\n",
    "            probs = F.softmax(outputs, dim=1)\n",
    "            print(f\"\\nSample prediction probabilities shape: {probs.shape}\")\n",
    "            print(f\"Probability sum (first sample): {probs[0].sum().item():.4f}\")\n",
    "            if probs.shape[1] != 15:\n",
    "                raise ValueError(f\"Expected 15 classes in predictions, found {probs.shape[1]}\")\n",
    "            if not np.isclose(probs.sum(dim=1).cpu().numpy(), 1.0, atol=1e-4).all():\n",
    "                raise ValueError(\"Prediction probabilities do not sum to 1\")\n",
    "            break\n",
    "\n",
    "    print(\"\\n=== All Diagnostic Checks Passed ===\")\n",
    "\n",
    "# Run diagnostics\n",
    "run_diagnostic_checks(train_subset, val_subset, train_loader, val_loader, categories, instance_to_images)"
   ]
  },
  {
   "cell_type": "markdown",
   "id": "488d99d6",
   "metadata": {},
   "source": [
    "## Model Modification for 5-Channel Input"
   ]
  },
  {
   "cell_type": "code",
   "execution_count": null,
   "id": "3c360477",
   "metadata": {},
   "outputs": [
    {
     "name": "stdout",
     "output_type": "stream",
     "text": [
      "Using device: cuda\n"
     ]
    }
   ],
   "source": [
    "device = torch.device(\"cuda\" if torch.cuda.is_available() else \"cpu\")\n",
    "print(f\"Using device: {device}\")\n",
    "num_classes = 15  # number of object categories\n",
    "\n",
    "# --- ResNet50 Modification ---\n",
    "resnet = models.resnet50(weights=models.ResNet50_Weights.IMAGENET1K_V2)\n",
    "old_conv = resnet.conv1\n",
    "resnet.conv1 = nn.Conv2d(5, old_conv.out_channels, kernel_size=old_conv.kernel_size,\n",
    "                         stride=old_conv.stride, padding=old_conv.padding, bias=False)\n",
    "with torch.no_grad():\n",
    "    # Copy pretrained weights for first 3 channels\n",
    "    resnet.conv1.weight[:, :3, :, :] = old_conv.weight.clone()\n",
    "    # For channel 4 and 5, use mean of first 3 channels\n",
    "    mean_weight = old_conv.weight.mean(dim=1, keepdim=True)\n",
    "    resnet.conv1.weight[:, 3:5, :, :] = mean_weight.repeat(1, 2, 1, 1)\n",
    "# Add dropout and new final layer\n",
    "in_features = resnet.fc.in_features\n",
    "resnet.fc = nn.Sequential(\n",
    "    nn.Dropout(p=0.6), \n",
    "    nn.Linear(in_features, num_classes)\n",
    ")\n",
    "resnet = resnet.to(device)\n",
    "\n",
    "# --- EfficientNet-B0 Modification ---\n",
    "effnet = models.efficientnet_b0(weights=models.EfficientNet_B0_Weights.IMAGENET1K_V1)\n",
    "old_eff_conv = effnet.features[0][0]\n",
    "new_eff_conv = nn.Conv2d(5, old_eff_conv.out_channels, kernel_size=old_eff_conv.kernel_size,\n",
    "                         stride=old_eff_conv.stride, padding=old_eff_conv.padding, bias=False)\n",
    "with torch.no_grad():\n",
    "    new_eff_conv.weight[:, :3, :, :] = old_eff_conv.weight.clone()\n",
    "    mean_weight = old_eff_conv.weight.mean(dim=1, keepdim=True)\n",
    "    new_eff_conv.weight[:, 3:5, :, :] = mean_weight.repeat(1, 2, 1, 1)\n",
    "effnet.features[0][0] = new_eff_conv\n",
    "in_features = effnet.classifier[1].in_features\n",
    "effnet.classifier = nn.Sequential(\n",
    "    nn.Dropout(p=0.6), \n",
    "    nn.Linear(in_features, num_classes)\n",
    ")\n",
    "effnet = effnet.to(device)"
   ]
  },
  {
   "cell_type": "markdown",
   "id": "e6cb0ad2",
   "metadata": {},
   "source": [
    "## Training and Evaluation Loops"
   ]
  },
  {
   "cell_type": "code",
   "execution_count": null,
   "id": "7cd5feae",
   "metadata": {},
   "outputs": [
    {
     "name": "stderr",
     "output_type": "stream",
     "text": [
      "[Train] Epoch 1/50: 100%|██████████| 408/408 [04:22<00:00,  1.56it/s]\n",
      "[Val] Epoch 1/50: 100%|██████████| 165/165 [00:55<00:00,  2.96it/s]\n"
     ]
    },
    {
     "name": "stdout",
     "output_type": "stream",
     "text": [
      "Epoch 1/50 | [ResNet] Train Loss: 0.3342, Acc: 0.6462 | Val Loss: 0.5617, Acc: 0.8300 || [EffNet] Train Loss: 0.5008, Acc: 0.6236 | Val Loss: 0.4688, Acc: 0.8491\n"
     ]
    },
    {
     "name": "stderr",
     "output_type": "stream",
     "text": [
      "[Train] Epoch 2/50: 100%|██████████| 408/408 [04:20<00:00,  1.57it/s]\n",
      "[Val] Epoch 2/50: 100%|██████████| 165/165 [00:55<00:00,  2.97it/s]\n"
     ]
    },
    {
     "name": "stdout",
     "output_type": "stream",
     "text": [
      "Epoch 2/50 | [ResNet] Train Loss: 0.0020, Acc: 0.7120 | Val Loss: 0.7530, Acc: 0.8189 || [EffNet] Train Loss: 0.0112, Acc: 0.7117 | Val Loss: 0.5439, Acc: 0.8430\n"
     ]
    },
    {
     "name": "stderr",
     "output_type": "stream",
     "text": [
      "[Train] Epoch 3/50: 100%|██████████| 408/408 [04:20<00:00,  1.56it/s]\n",
      "[Val] Epoch 3/50: 100%|██████████| 165/165 [00:56<00:00,  2.92it/s]\n"
     ]
    },
    {
     "name": "stdout",
     "output_type": "stream",
     "text": [
      "Epoch 3/50 | [ResNet] Train Loss: 0.0012, Acc: 0.7121 | Val Loss: 0.7288, Acc: 0.8303 || [EffNet] Train Loss: 0.0048, Acc: 0.7119 | Val Loss: 0.5470, Acc: 0.8566\n"
     ]
    },
    {
     "name": "stderr",
     "output_type": "stream",
     "text": [
      "[Train] Epoch 4/50: 100%|██████████| 408/408 [04:20<00:00,  1.56it/s]\n",
      "[Val] Epoch 4/50: 100%|██████████| 165/165 [00:56<00:00,  2.94it/s]\n"
     ]
    },
    {
     "name": "stdout",
     "output_type": "stream",
     "text": [
      "Epoch 4/50 | [ResNet] Train Loss: 0.0006, Acc: 0.7122 | Val Loss: 0.6239, Acc: 0.8457 || [EffNet] Train Loss: 0.0028, Acc: 0.7121 | Val Loss: 0.5900, Acc: 0.8480\n"
     ]
    },
    {
     "name": "stderr",
     "output_type": "stream",
     "text": [
      "[Train] Epoch 5/50: 100%|██████████| 408/408 [04:20<00:00,  1.56it/s]\n",
      "[Val] Epoch 5/50: 100%|██████████| 165/165 [00:56<00:00,  2.94it/s]\n"
     ]
    },
    {
     "name": "stdout",
     "output_type": "stream",
     "text": [
      "Epoch 5/50 | [ResNet] Train Loss: 0.0010, Acc: 0.7121 | Val Loss: 0.8160, Acc: 0.8288 || [EffNet] Train Loss: 0.0021, Acc: 0.7121 | Val Loss: 0.5593, Acc: 0.8614\n"
     ]
    },
    {
     "name": "stderr",
     "output_type": "stream",
     "text": [
      "[Train] Epoch 6/50: 100%|██████████| 408/408 [04:20<00:00,  1.56it/s]\n",
      "[Val] Epoch 6/50: 100%|██████████| 165/165 [00:56<00:00,  2.91it/s]\n"
     ]
    },
    {
     "name": "stdout",
     "output_type": "stream",
     "text": [
      "Epoch 6/50 | [ResNet] Train Loss: 0.0006, Acc: 0.7122 | Val Loss: 0.7477, Acc: 0.8369 || [EffNet] Train Loss: 0.0014, Acc: 0.7122 | Val Loss: 0.6234, Acc: 0.8559\n"
     ]
    },
    {
     "name": "stderr",
     "output_type": "stream",
     "text": [
      "[Train] Epoch 7/50: 100%|██████████| 408/408 [04:21<00:00,  1.56it/s]\n",
      "[Val] Epoch 7/50: 100%|██████████| 165/165 [00:56<00:00,  2.92it/s]\n"
     ]
    },
    {
     "name": "stdout",
     "output_type": "stream",
     "text": [
      "Epoch 7/50 | [ResNet] Train Loss: 0.0002, Acc: 0.7123 | Val Loss: 0.8383, Acc: 0.8156 || [EffNet] Train Loss: 0.0010, Acc: 0.7122 | Val Loss: 0.6358, Acc: 0.8509\n"
     ]
    },
    {
     "name": "stderr",
     "output_type": "stream",
     "text": [
      "[Train] Epoch 8/50: 100%|██████████| 408/408 [04:27<00:00,  1.53it/s]\n",
      "[Val] Epoch 8/50: 100%|██████████| 165/165 [00:57<00:00,  2.89it/s]\n"
     ]
    },
    {
     "name": "stdout",
     "output_type": "stream",
     "text": [
      "Epoch 8/50 | [ResNet] Train Loss: 0.0002, Acc: 0.7123 | Val Loss: 0.7769, Acc: 0.8363 || [EffNet] Train Loss: 0.0010, Acc: 0.7122 | Val Loss: 0.6310, Acc: 0.8615\n"
     ]
    },
    {
     "name": "stderr",
     "output_type": "stream",
     "text": [
      "[Train] Epoch 9/50: 100%|██████████| 408/408 [04:21<00:00,  1.56it/s]\n",
      "[Val] Epoch 9/50: 100%|██████████| 165/165 [00:55<00:00,  2.96it/s]\n"
     ]
    },
    {
     "name": "stdout",
     "output_type": "stream",
     "text": [
      "Epoch 9/50 | [ResNet] Train Loss: 0.0001, Acc: 0.7123 | Val Loss: 0.8161, Acc: 0.8185 || [EffNet] Train Loss: 0.0009, Acc: 0.7122 | Val Loss: 0.6626, Acc: 0.8400\n"
     ]
    },
    {
     "name": "stderr",
     "output_type": "stream",
     "text": [
      "[Train] Epoch 10/50: 100%|██████████| 408/408 [04:22<00:00,  1.55it/s]\n",
      "[Val] Epoch 10/50: 100%|██████████| 165/165 [00:56<00:00,  2.92it/s]\n"
     ]
    },
    {
     "name": "stdout",
     "output_type": "stream",
     "text": [
      "Epoch 10/50 | [ResNet] Train Loss: 0.0001, Acc: 0.7123 | Val Loss: 0.7216, Acc: 0.8323 || [EffNet] Train Loss: 0.0008, Acc: 0.7122 | Val Loss: 0.5695, Acc: 0.8591\n"
     ]
    },
    {
     "name": "stderr",
     "output_type": "stream",
     "text": [
      "[Train] Epoch 11/50: 100%|██████████| 408/408 [04:21<00:00,  1.56it/s]\n",
      "[Val] Epoch 11/50: 100%|██████████| 165/165 [00:56<00:00,  2.93it/s]\n"
     ]
    },
    {
     "name": "stdout",
     "output_type": "stream",
     "text": [
      "Epoch 11/50 | [ResNet] Train Loss: 0.0001, Acc: 0.7123 | Val Loss: 0.8076, Acc: 0.8251 || [EffNet] Train Loss: 0.0008, Acc: 0.7123 | Val Loss: 0.6843, Acc: 0.8364\n"
     ]
    },
    {
     "name": "stderr",
     "output_type": "stream",
     "text": [
      "[Train] Epoch 12/50: 100%|██████████| 408/408 [04:20<00:00,  1.56it/s]\n",
      "[Val] Epoch 12/50: 100%|██████████| 165/165 [00:55<00:00,  2.96it/s]\n"
     ]
    },
    {
     "name": "stdout",
     "output_type": "stream",
     "text": [
      "Epoch 12/50 | [ResNet] Train Loss: 0.0001, Acc: 0.7123 | Val Loss: 0.7599, Acc: 0.8365 || [EffNet] Train Loss: 0.0008, Acc: 0.7122 | Val Loss: 0.6677, Acc: 0.8491\n"
     ]
    },
    {
     "name": "stderr",
     "output_type": "stream",
     "text": [
      "[Train] Epoch 13/50: 100%|██████████| 408/408 [04:22<00:00,  1.55it/s]\n",
      "[Val] Epoch 13/50: 100%|██████████| 165/165 [00:56<00:00,  2.94it/s]\n"
     ]
    },
    {
     "name": "stdout",
     "output_type": "stream",
     "text": [
      "Epoch 13/50 | [ResNet] Train Loss: 0.0001, Acc: 0.7123 | Val Loss: 0.8663, Acc: 0.8217 || [EffNet] Train Loss: 0.0007, Acc: 0.7123 | Val Loss: 0.7473, Acc: 0.8329\n"
     ]
    },
    {
     "name": "stderr",
     "output_type": "stream",
     "text": [
      "[Train] Epoch 14/50: 100%|██████████| 408/408 [04:22<00:00,  1.55it/s]\n",
      "[Val] Epoch 14/50: 100%|██████████| 165/165 [00:56<00:00,  2.92it/s]\n"
     ]
    },
    {
     "name": "stdout",
     "output_type": "stream",
     "text": [
      "Epoch 14/50 | [ResNet] Train Loss: 0.0001, Acc: 0.7123 | Val Loss: 0.8160, Acc: 0.8314 || [EffNet] Train Loss: 0.0007, Acc: 0.7122 | Val Loss: 0.6933, Acc: 0.8429\n"
     ]
    },
    {
     "name": "stderr",
     "output_type": "stream",
     "text": [
      "[Train] Epoch 15/50: 100%|██████████| 408/408 [04:22<00:00,  1.55it/s]\n",
      "[Val] Epoch 15/50: 100%|██████████| 165/165 [00:57<00:00,  2.86it/s]\n"
     ]
    },
    {
     "name": "stdout",
     "output_type": "stream",
     "text": [
      "Epoch 15/50 | [ResNet] Train Loss: 0.0001, Acc: 0.7123 | Val Loss: 0.7967, Acc: 0.8256 || [EffNet] Train Loss: 0.0008, Acc: 0.7122 | Val Loss: 0.6890, Acc: 0.8403\n"
     ]
    },
    {
     "name": "stderr",
     "output_type": "stream",
     "text": [
      "[Train] Epoch 16/50: 100%|██████████| 408/408 [04:22<00:00,  1.55it/s]\n",
      "[Val] Epoch 16/50: 100%|██████████| 165/165 [00:56<00:00,  2.92it/s]\n"
     ]
    },
    {
     "name": "stdout",
     "output_type": "stream",
     "text": [
      "Epoch 16/50 | [ResNet] Train Loss: 0.0001, Acc: 0.7123 | Val Loss: 0.7156, Acc: 0.8368 || [EffNet] Train Loss: 0.0007, Acc: 0.7123 | Val Loss: 0.6309, Acc: 0.8561\n"
     ]
    },
    {
     "name": "stderr",
     "output_type": "stream",
     "text": [
      "[Train] Epoch 17/50: 100%|██████████| 408/408 [04:22<00:00,  1.55it/s]\n",
      "[Val] Epoch 17/50: 100%|██████████| 165/165 [00:55<00:00,  2.95it/s]\n"
     ]
    },
    {
     "name": "stdout",
     "output_type": "stream",
     "text": [
      "Epoch 17/50 | [ResNet] Train Loss: 0.0001, Acc: 0.7123 | Val Loss: 0.8470, Acc: 0.8306 || [EffNet] Train Loss: 0.0007, Acc: 0.7123 | Val Loss: 0.7265, Acc: 0.8402\n"
     ]
    },
    {
     "name": "stderr",
     "output_type": "stream",
     "text": [
      "[Train] Epoch 18/50: 100%|██████████| 408/408 [04:20<00:00,  1.57it/s]\n",
      "[Val] Epoch 18/50: 100%|██████████| 165/165 [00:55<00:00,  2.99it/s]\n"
     ]
    },
    {
     "name": "stdout",
     "output_type": "stream",
     "text": [
      "Epoch 18/50 | [ResNet] Train Loss: 0.0001, Acc: 0.7123 | Val Loss: 0.7977, Acc: 0.8276 || [EffNet] Train Loss: 0.0007, Acc: 0.7123 | Val Loss: 0.6829, Acc: 0.8463\n"
     ]
    },
    {
     "name": "stderr",
     "output_type": "stream",
     "text": [
      "[Train] Epoch 19/50: 100%|██████████| 408/408 [04:20<00:00,  1.57it/s]\n",
      "[Val] Epoch 19/50: 100%|██████████| 165/165 [00:55<00:00,  3.00it/s]\n"
     ]
    },
    {
     "name": "stdout",
     "output_type": "stream",
     "text": [
      "Epoch 19/50 | [ResNet] Train Loss: 0.0001, Acc: 0.7123 | Val Loss: 0.7514, Acc: 0.8419 || [EffNet] Train Loss: 0.0007, Acc: 0.7123 | Val Loss: 0.6287, Acc: 0.8599\n"
     ]
    },
    {
     "name": "stderr",
     "output_type": "stream",
     "text": [
      "[Train] Epoch 20/50: 100%|██████████| 408/408 [04:21<00:00,  1.56it/s]\n",
      "[Val] Epoch 20/50: 100%|██████████| 165/165 [00:55<00:00,  2.96it/s]\n"
     ]
    },
    {
     "name": "stdout",
     "output_type": "stream",
     "text": [
      "Epoch 20/50 | [ResNet] Train Loss: 0.0001, Acc: 0.7123 | Val Loss: 0.8117, Acc: 0.8289 || [EffNet] Train Loss: 0.0007, Acc: 0.7123 | Val Loss: 0.7262, Acc: 0.8381\n"
     ]
    },
    {
     "name": "stderr",
     "output_type": "stream",
     "text": [
      "[Train] Epoch 21/50: 100%|██████████| 408/408 [04:23<00:00,  1.55it/s]\n",
      "[Val] Epoch 21/50: 100%|██████████| 165/165 [00:56<00:00,  2.93it/s]\n"
     ]
    },
    {
     "name": "stdout",
     "output_type": "stream",
     "text": [
      "Epoch 21/50 | [ResNet] Train Loss: 0.0001, Acc: 0.7123 | Val Loss: 0.7560, Acc: 0.8370 || [EffNet] Train Loss: 0.0007, Acc: 0.7122 | Val Loss: 0.6517, Acc: 0.8554\n"
     ]
    },
    {
     "name": "stderr",
     "output_type": "stream",
     "text": [
      "[Train] Epoch 22/50: 100%|██████████| 408/408 [04:21<00:00,  1.56it/s]\n",
      "[Val] Epoch 22/50: 100%|██████████| 165/165 [00:54<00:00,  3.01it/s]\n"
     ]
    },
    {
     "name": "stdout",
     "output_type": "stream",
     "text": [
      "Epoch 22/50 | [ResNet] Train Loss: 0.0001, Acc: 0.7123 | Val Loss: 0.7037, Acc: 0.8388 || [EffNet] Train Loss: 0.0007, Acc: 0.7122 | Val Loss: 0.6253, Acc: 0.8479\n"
     ]
    },
    {
     "name": "stderr",
     "output_type": "stream",
     "text": [
      "[Train] Epoch 23/50: 100%|██████████| 408/408 [04:22<00:00,  1.55it/s]\n",
      "[Val] Epoch 23/50: 100%|██████████| 165/165 [01:05<00:00,  2.52it/s]"
     ]
    },
    {
     "name": "stdout",
     "output_type": "stream",
     "text": [
      "Epoch 23/50 | [ResNet] Train Loss: 0.0001, Acc: 0.7123 | Val Loss: 0.7841, Acc: 0.8282 || [EffNet] Train Loss: 0.0008, Acc: 0.7122 | Val Loss: 0.6456, Acc: 0.8473\n",
      "Early stopping at epoch 23\n"
     ]
    },
    {
     "name": "stderr",
     "output_type": "stream",
     "text": [
      "\n"
     ]
    }
   ],
   "source": [
    "from tqdm import tqdm\n",
    "from torch.amp import autocast, GradScaler\n",
    "\n",
    "# --- Class Weights Calculation ---\n",
    "train_labels = [train_dataset.samples[i]['label'] for i in train_subset.indices]\n",
    "label_counts = Counter(train_labels)\n",
    "total_samples = len(train_labels)\n",
    "class_weights = [total_samples / (num_classes * label_counts[i]) for i in range(num_classes)]\n",
    "class_weights = torch.tensor(class_weights, dtype=torch.float).to(device)\n",
    "\n",
    "# Loss function with class weights\n",
    "criterion = nn.CrossEntropyLoss(weight=class_weights)\n",
    "\n",
    "# Optimizers with weight decay\n",
    "optimizer_res = optim.Adam(resnet.parameters(), lr=1e-4, weight_decay=1e-4)\n",
    "optimizer_eff = optim.Adam(effnet.parameters(), lr=1e-4, weight_decay=1e-4)\n",
    "\n",
    "# Learning rate schedulers\n",
    "scheduler_res = optim.lr_scheduler.ReduceLROnPlateau(optimizer_res, mode='min', factor=0.1, patience=5)\n",
    "scheduler_eff = optim.lr_scheduler.ReduceLROnPlateau(optimizer_eff, mode='min', factor=0.1, patience=5)\n",
    "\n",
    "# Gradient scalers for mixed precision\n",
    "scaler_res = GradScaler(device='cuda')\n",
    "scaler_eff = GradScaler(device='cuda')\n",
    "\n",
    "# Parameters\n",
    "best_acc_res = 0.0\n",
    "best_acc_eff = 0.0\n",
    "patience = 15\n",
    "counter_res = 0\n",
    "counter_eff = 0\n",
    "accumulation_steps = 4 \n",
    "\n",
    "# History tracking\n",
    "history = {\n",
    "    'resnet_train_loss': [], 'resnet_train_acc': [],\n",
    "    'resnet_val_loss': [], 'resnet_val_acc': [],\n",
    "    'effnet_train_loss': [], 'effnet_train_acc': [],\n",
    "    'effnet_val_loss': [], 'effnet_val_acc': []\n",
    "}\n",
    "\n",
    "num_epochs = 50\n",
    "for epoch in range(num_epochs):\n",
    "    resnet.train()\n",
    "    effnet.train()\n",
    "\n",
    "    train_loss_res = torch.tensor(0.0, device=device)\n",
    "    train_correct_res = torch.tensor(0, device=device)\n",
    "    train_loss_eff = torch.tensor(0.0, device=device)\n",
    "    train_correct_eff = torch.tensor(0, device=device)\n",
    "    optimizer_res.zero_grad()\n",
    "    optimizer_eff.zero_grad()\n",
    "\n",
    "    for i, (inputs, labels) in enumerate(tqdm(train_loader, desc=f\"[Train] Epoch {epoch+1}/{num_epochs}\")):\n",
    "        inputs, labels = inputs.to(device), labels.to(device)\n",
    "\n",
    "        # ResNet forward-backward\n",
    "        with autocast(device_type='cuda'):\n",
    "            outputs_res = resnet(inputs)\n",
    "            loss_res = criterion(outputs_res, labels) / accumulation_steps\n",
    "        scaler_res.scale(loss_res).backward()\n",
    "        train_loss_res += loss_res.detach() * inputs.size(0) * accumulation_steps\n",
    "        train_correct_res += (outputs_res.argmax(1) == labels).sum()\n",
    "\n",
    "        # EfficientNet forward-backward\n",
    "        with autocast(device_type='cuda'):\n",
    "            outputs_eff = effnet(inputs)\n",
    "            loss_eff = criterion(outputs_eff, labels) / accumulation_steps\n",
    "        scaler_eff.scale(loss_eff).backward()\n",
    "        train_loss_eff += loss_eff.detach() * inputs.size(0) * accumulation_steps\n",
    "        train_correct_eff += (outputs_eff.argmax(1) == labels).sum()\n",
    "\n",
    "        if (i + 1) % accumulation_steps == 0:\n",
    "            scaler_res.step(optimizer_res)\n",
    "            scaler_res.update()\n",
    "            scaler_eff.step(optimizer_eff)\n",
    "            scaler_eff.update()\n",
    "            optimizer_res.zero_grad()\n",
    "            optimizer_eff.zero_grad()\n",
    "\n",
    "    # Step optimizers for remaining gradients\n",
    "    if len(train_loader) % accumulation_steps != 0:\n",
    "        scaler_res.step(optimizer_res)\n",
    "        scaler_res.update()\n",
    "        scaler_eff.step(optimizer_eff)\n",
    "        scaler_eff.update()\n",
    "        optimizer_res.zero_grad()\n",
    "        optimizer_eff.zero_grad()\n",
    "\n",
    "    # Compute training metrics\n",
    "    epoch_loss_res = train_loss_res.item() / len(train_dataset)\n",
    "    epoch_acc_res = train_correct_res.item() / len(train_dataset)\n",
    "    epoch_loss_eff = train_loss_eff.item() / len(train_dataset)\n",
    "    epoch_acc_eff = train_correct_eff.item() / len(train_dataset)\n",
    "\n",
    "    history['resnet_train_loss'].append(epoch_loss_res)\n",
    "    history['resnet_train_acc'].append(epoch_acc_res)\n",
    "    history['effnet_train_loss'].append(epoch_loss_eff)\n",
    "    history['effnet_train_acc'].append(epoch_acc_eff)\n",
    "\n",
    "    # Validation\n",
    "    resnet.eval()\n",
    "    effnet.eval()\n",
    "    val_loss_res = torch.tensor(0.0, device=device)\n",
    "    val_correct_res = torch.tensor(0, device=device)\n",
    "    val_loss_eff = torch.tensor(0.0, device=device)\n",
    "    val_correct_eff = torch.tensor(0, device=device)\n",
    "\n",
    "    with torch.no_grad():\n",
    "        for inputs, labels in tqdm(val_loader, desc=f\"[Val] Epoch {epoch+1}/{num_epochs}\"):\n",
    "            inputs, labels = inputs.to(device), labels.to(device)\n",
    "\n",
    "            with autocast(device_type='cuda'):\n",
    "                outputs_res = resnet(inputs)\n",
    "                loss_res = criterion(outputs_res, labels)\n",
    "                outputs_eff = effnet(inputs)\n",
    "                loss_eff = criterion(outputs_eff, labels)\n",
    "\n",
    "            val_loss_res += loss_res.detach() * inputs.size(0)\n",
    "            val_correct_res += (outputs_res.argmax(1) == labels).sum()\n",
    "            val_loss_eff += loss_eff.detach() * inputs.size(0)\n",
    "            val_correct_eff += (outputs_eff.argmax(1) == labels).sum()\n",
    "\n",
    "    # Compute validation metrics\n",
    "    val_epoch_loss_res = val_loss_res.item() / len(val_subset)\n",
    "    val_epoch_acc_res = val_correct_res.item() / len(val_subset)\n",
    "    val_epoch_loss_eff = val_loss_eff.item() / len(val_subset)\n",
    "    val_epoch_acc_eff = val_correct_eff.item() / len(val_subset)\n",
    "\n",
    "    history['resnet_val_loss'].append(val_epoch_loss_res)\n",
    "    history['resnet_val_acc'].append(val_epoch_acc_res)\n",
    "    history['effnet_val_loss'].append(val_epoch_loss_eff)\n",
    "    history['effnet_val_acc'].append(val_epoch_acc_eff)\n",
    "\n",
    "    scheduler_res.step(val_epoch_loss_res)\n",
    "    scheduler_eff.step(val_epoch_loss_eff)\n",
    "\n",
    "    # Save best models and apply early stopping\n",
    "    if val_epoch_acc_res > best_acc_res:\n",
    "        best_acc_res = val_epoch_acc_res\n",
    "        counter_res = 0\n",
    "        torch.save(resnet.state_dict(), \"best_resnet50.pth\")\n",
    "    else:\n",
    "        counter_res += 1\n",
    "\n",
    "    if val_epoch_acc_eff > best_acc_eff:\n",
    "        best_acc_eff = val_epoch_acc_eff\n",
    "        counter_eff = 0\n",
    "        torch.save(effnet.state_dict(), \"best_efficientnet.pth\")\n",
    "    else:\n",
    "        counter_eff += 1\n",
    "\n",
    "\n",
    "    # Print summary\n",
    "    print(f\"Epoch {epoch+1}/{num_epochs} | \"\n",
    "          f\"[ResNet] Train Loss: {epoch_loss_res:.4f}, Acc: {epoch_acc_res:.4f} | \"\n",
    "          f\"Val Loss: {val_epoch_loss_res:.4f}, Acc: {val_epoch_acc_res:.4f} || \"\n",
    "          f\"[EffNet] Train Loss: {epoch_loss_eff:.4f}, Acc: {epoch_acc_eff:.4f} | \"\n",
    "          f\"Val Loss: {val_epoch_loss_eff:.4f}, Acc: {val_epoch_acc_eff:.4f}\")\n",
    "\n",
    "    # Early stopping check\n",
    "    if counter_res >= patience and counter_eff >= patience:\n",
    "        print(f\"Early stopping at epoch {epoch+1}\")\n",
    "        break\n"
   ]
  },
  {
   "cell_type": "markdown",
   "id": "a11b9927",
   "metadata": {},
   "source": [
    "## Plotting Loss and Accuracy Curves"
   ]
  },
  {
   "cell_type": "code",
   "execution_count": 12,
   "id": "be227c2d",
   "metadata": {},
   "outputs": [
    {
     "data": {
      "image/png": "[encoded data removed]",
      "text/plain": [
       "<Figure size 1200x500 with 2 Axes>"
      ]
     },
     "metadata": {},
     "output_type": "display_data"
    }
   ],
   "source": [
    "epochs = range(1, len(history['resnet_train_loss']) + 1)\n",
    "\n",
    "plt.figure(figsize=(12, 5))\n",
    "\n",
    "plt.subplot(1, 2, 1)\n",
    "plt.plot(epochs, history['resnet_train_loss'], label='ResNet Train')\n",
    "plt.plot(epochs, history['resnet_val_loss'], label='ResNet Val')\n",
    "plt.plot(epochs, history['effnet_train_loss'], label='EffNet Train', linestyle='--')\n",
    "plt.plot(epochs, history['effnet_val_loss'], label='EffNet Val', linestyle='--')\n",
    "plt.title('Loss over Epochs')\n",
    "plt.xlabel('Epoch')\n",
    "plt.ylabel('Loss')\n",
    "plt.legend()\n",
    "\n",
    "plt.subplot(1, 2, 2)\n",
    "plt.plot(epochs, history['resnet_train_acc'], label='ResNet Train')\n",
    "plt.plot(epochs, history['resnet_val_acc'], label='ResNet Val')\n",
    "plt.plot(epochs, history['effnet_train_acc'], label='EffNet Train', linestyle='--')\n",
    "plt.plot(epochs, history['effnet_val_acc'], label='EffNet Val', linestyle='--')\n",
    "plt.title('Accuracy over Epochs')\n",
    "plt.xlabel('Epoch')\n",
    "plt.ylabel('Accuracy')\n",
    "plt.legend()\n",
    "\n",
    "plt.tight_layout()\n",
    "plt.savefig('training_curves.png')"
   ]
  },
  {
   "cell_type": "code",
   "execution_count": null,
   "id": "5bc7a528",
   "metadata": {},
   "outputs": [],
   "source": []
  }
 ],
 "metadata": {
  "kernelspec": {
   "display_name": "CNNenv",
   "language": "python",
   "name": "python3"
  },
  "language_info": {
   "codemirror_mode": {
    "name": "ipython",
    "version": 3
   },
   "file_extension": ".py",
   "mimetype": "text/x-python",
   "name": "python",
   "nbconvert_exporter": "python",
   "pygments_lexer": "ipython3",
   "version": "3.12.7"
  }
 },
 "nbformat": 4,
 "nbformat_minor": 5
}
